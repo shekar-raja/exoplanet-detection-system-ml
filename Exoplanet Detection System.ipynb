{
 "cells": [
  {
   "cell_type": "markdown",
   "id": "7440a016",
   "metadata": {},
   "source": [
    "## 1. Importing Libraries"
   ]
  },
  {
   "cell_type": "markdown",
   "id": "d51b77e5",
   "metadata": {},
   "source": [
    "### 1.1 Importing necassary libraries and adding necessary configurations"
   ]
  },
  {
   "cell_type": "code",
   "execution_count": 1,
   "id": "2398ab60-457e-44f6-a51f-16009f73cac8",
   "metadata": {},
   "outputs": [],
   "source": [
    "# For numeric calculations\n",
    "import numpy as np\n",
    "import pandas as pd\n",
    "\n",
    "# For visualizations\n",
    "import matplotlib.pyplot as plt\n",
    "import seaborn as sns\n",
    "\n",
    "# For balancing the dataset\n",
    "from imblearn.over_sampling import SMOTE\n",
    "\n",
    "# For machine learning models\n",
    "from sklearn.model_selection import train_test_split\n",
    "\n",
    "# Ignore warnings\n",
    "import warnings"
   ]
  },
  {
   "cell_type": "code",
   "execution_count": 2,
   "id": "3305dfe7",
   "metadata": {},
   "outputs": [],
   "source": [
    "# Configurations\n",
    "%matplotlib inline\n",
    "warnings.filterwarnings('ignore')"
   ]
  },
  {
   "cell_type": "markdown",
   "id": "26a845c1",
   "metadata": {},
   "source": [
    "## 2. Import data"
   ]
  },
  {
   "cell_type": "markdown",
   "id": "aa98d83f",
   "metadata": {},
   "source": [
    "### 2.1 Importing train and test data"
   ]
  },
  {
   "cell_type": "code",
   "execution_count": 3,
   "id": "32c053e5-e1fb-4050-8470-e785c543f38a",
   "metadata": {},
   "outputs": [],
   "source": [
    "# Importing train data\n",
    "train_dataset_path = \"./dataset/exoTrain.csv\"\n",
    "train_df = pd.read_csv(train_dataset_path, sep=\",\")\n",
    "\n",
    "# Importing test data\n",
    "test_dataset_path = \"./dataset/exoTest.csv\"\n",
    "test_df = pd.read_csv(test_dataset_path, sep=\",\")"
   ]
  },
  {
   "cell_type": "markdown",
   "id": "46830d45",
   "metadata": {},
   "source": [
    "### 2.2 Combining the datasets"
   ]
  },
  {
   "cell_type": "code",
   "execution_count": 7,
   "id": "c4ff099e",
   "metadata": {},
   "outputs": [
    {
     "data": {
      "text/html": [
       "<div>\n",
       "<style scoped>\n",
       "    .dataframe tbody tr th:only-of-type {\n",
       "        vertical-align: middle;\n",
       "    }\n",
       "\n",
       "    .dataframe tbody tr th {\n",
       "        vertical-align: top;\n",
       "    }\n",
       "\n",
       "    .dataframe thead th {\n",
       "        text-align: right;\n",
       "    }\n",
       "</style>\n",
       "<table border=\"1\" class=\"dataframe\">\n",
       "  <thead>\n",
       "    <tr style=\"text-align: right;\">\n",
       "      <th></th>\n",
       "      <th>LABEL</th>\n",
       "      <th>FLUX.1</th>\n",
       "      <th>FLUX.2</th>\n",
       "      <th>FLUX.3</th>\n",
       "      <th>FLUX.4</th>\n",
       "      <th>FLUX.5</th>\n",
       "      <th>FLUX.6</th>\n",
       "      <th>FLUX.7</th>\n",
       "      <th>FLUX.8</th>\n",
       "      <th>FLUX.9</th>\n",
       "      <th>...</th>\n",
       "      <th>FLUX.3188</th>\n",
       "      <th>FLUX.3189</th>\n",
       "      <th>FLUX.3190</th>\n",
       "      <th>FLUX.3191</th>\n",
       "      <th>FLUX.3192</th>\n",
       "      <th>FLUX.3193</th>\n",
       "      <th>FLUX.3194</th>\n",
       "      <th>FLUX.3195</th>\n",
       "      <th>FLUX.3196</th>\n",
       "      <th>FLUX.3197</th>\n",
       "    </tr>\n",
       "  </thead>\n",
       "  <tbody>\n",
       "    <tr>\n",
       "      <th>0</th>\n",
       "      <td>2</td>\n",
       "      <td>93.85</td>\n",
       "      <td>83.81</td>\n",
       "      <td>20.10</td>\n",
       "      <td>-26.98</td>\n",
       "      <td>-39.56</td>\n",
       "      <td>-124.71</td>\n",
       "      <td>-135.18</td>\n",
       "      <td>-96.27</td>\n",
       "      <td>-79.89</td>\n",
       "      <td>...</td>\n",
       "      <td>-78.07</td>\n",
       "      <td>-102.15</td>\n",
       "      <td>-102.15</td>\n",
       "      <td>25.13</td>\n",
       "      <td>48.57</td>\n",
       "      <td>92.54</td>\n",
       "      <td>39.32</td>\n",
       "      <td>61.42</td>\n",
       "      <td>5.08</td>\n",
       "      <td>-39.54</td>\n",
       "    </tr>\n",
       "    <tr>\n",
       "      <th>1</th>\n",
       "      <td>2</td>\n",
       "      <td>-38.88</td>\n",
       "      <td>-33.83</td>\n",
       "      <td>-58.54</td>\n",
       "      <td>-40.09</td>\n",
       "      <td>-79.31</td>\n",
       "      <td>-72.81</td>\n",
       "      <td>-86.55</td>\n",
       "      <td>-85.33</td>\n",
       "      <td>-83.97</td>\n",
       "      <td>...</td>\n",
       "      <td>-3.28</td>\n",
       "      <td>-32.21</td>\n",
       "      <td>-32.21</td>\n",
       "      <td>-24.89</td>\n",
       "      <td>-4.86</td>\n",
       "      <td>0.76</td>\n",
       "      <td>-11.70</td>\n",
       "      <td>6.46</td>\n",
       "      <td>16.00</td>\n",
       "      <td>19.93</td>\n",
       "    </tr>\n",
       "    <tr>\n",
       "      <th>2</th>\n",
       "      <td>2</td>\n",
       "      <td>532.64</td>\n",
       "      <td>535.92</td>\n",
       "      <td>513.73</td>\n",
       "      <td>496.92</td>\n",
       "      <td>456.45</td>\n",
       "      <td>466.00</td>\n",
       "      <td>464.50</td>\n",
       "      <td>486.39</td>\n",
       "      <td>436.56</td>\n",
       "      <td>...</td>\n",
       "      <td>-71.69</td>\n",
       "      <td>13.31</td>\n",
       "      <td>13.31</td>\n",
       "      <td>-29.89</td>\n",
       "      <td>-20.88</td>\n",
       "      <td>5.06</td>\n",
       "      <td>-11.80</td>\n",
       "      <td>-28.91</td>\n",
       "      <td>-70.02</td>\n",
       "      <td>-96.67</td>\n",
       "    </tr>\n",
       "    <tr>\n",
       "      <th>3</th>\n",
       "      <td>2</td>\n",
       "      <td>326.52</td>\n",
       "      <td>347.39</td>\n",
       "      <td>302.35</td>\n",
       "      <td>298.13</td>\n",
       "      <td>317.74</td>\n",
       "      <td>312.70</td>\n",
       "      <td>322.33</td>\n",
       "      <td>311.31</td>\n",
       "      <td>312.42</td>\n",
       "      <td>...</td>\n",
       "      <td>5.71</td>\n",
       "      <td>-3.73</td>\n",
       "      <td>-3.73</td>\n",
       "      <td>30.05</td>\n",
       "      <td>20.03</td>\n",
       "      <td>-12.67</td>\n",
       "      <td>-8.77</td>\n",
       "      <td>-17.31</td>\n",
       "      <td>-17.35</td>\n",
       "      <td>13.98</td>\n",
       "    </tr>\n",
       "    <tr>\n",
       "      <th>4</th>\n",
       "      <td>2</td>\n",
       "      <td>-1107.21</td>\n",
       "      <td>-1112.59</td>\n",
       "      <td>-1118.95</td>\n",
       "      <td>-1095.10</td>\n",
       "      <td>-1057.55</td>\n",
       "      <td>-1034.48</td>\n",
       "      <td>-998.34</td>\n",
       "      <td>-1022.71</td>\n",
       "      <td>-989.57</td>\n",
       "      <td>...</td>\n",
       "      <td>-594.37</td>\n",
       "      <td>-401.66</td>\n",
       "      <td>-401.66</td>\n",
       "      <td>-357.24</td>\n",
       "      <td>-443.76</td>\n",
       "      <td>-438.54</td>\n",
       "      <td>-399.71</td>\n",
       "      <td>-384.65</td>\n",
       "      <td>-411.79</td>\n",
       "      <td>-510.54</td>\n",
       "    </tr>\n",
       "  </tbody>\n",
       "</table>\n",
       "<p>5 rows × 3198 columns</p>\n",
       "</div>"
      ],
      "text/plain": [
       "   LABEL   FLUX.1   FLUX.2   FLUX.3   FLUX.4   FLUX.5   FLUX.6  FLUX.7  \\\n",
       "0      2    93.85    83.81    20.10   -26.98   -39.56  -124.71 -135.18   \n",
       "1      2   -38.88   -33.83   -58.54   -40.09   -79.31   -72.81  -86.55   \n",
       "2      2   532.64   535.92   513.73   496.92   456.45   466.00  464.50   \n",
       "3      2   326.52   347.39   302.35   298.13   317.74   312.70  322.33   \n",
       "4      2 -1107.21 -1112.59 -1118.95 -1095.10 -1057.55 -1034.48 -998.34   \n",
       "\n",
       "    FLUX.8  FLUX.9  ...  FLUX.3188  FLUX.3189  FLUX.3190  FLUX.3191  \\\n",
       "0   -96.27  -79.89  ...     -78.07    -102.15    -102.15      25.13   \n",
       "1   -85.33  -83.97  ...      -3.28     -32.21     -32.21     -24.89   \n",
       "2   486.39  436.56  ...     -71.69      13.31      13.31     -29.89   \n",
       "3   311.31  312.42  ...       5.71      -3.73      -3.73      30.05   \n",
       "4 -1022.71 -989.57  ...    -594.37    -401.66    -401.66    -357.24   \n",
       "\n",
       "   FLUX.3192  FLUX.3193  FLUX.3194  FLUX.3195  FLUX.3196  FLUX.3197  \n",
       "0      48.57      92.54      39.32      61.42       5.08     -39.54  \n",
       "1      -4.86       0.76     -11.70       6.46      16.00      19.93  \n",
       "2     -20.88       5.06     -11.80     -28.91     -70.02     -96.67  \n",
       "3      20.03     -12.67      -8.77     -17.31     -17.35      13.98  \n",
       "4    -443.76    -438.54    -399.71    -384.65    -411.79    -510.54  \n",
       "\n",
       "[5 rows x 3198 columns]"
      ]
     },
     "execution_count": 7,
     "metadata": {},
     "output_type": "execute_result"
    }
   ],
   "source": [
    "# Combining two dataframes for further investigation\n",
    "df = pd.concat([train_df, test_df])\n",
    "df.head(5)"
   ]
  },
  {
   "cell_type": "code",
   "execution_count": 9,
   "id": "f88b1a9a",
   "metadata": {},
   "outputs": [
    {
     "data": {
      "text/plain": [
       "(5657, 3198)"
      ]
     },
     "execution_count": 9,
     "metadata": {},
     "output_type": "execute_result"
    }
   ],
   "source": [
    "df.shape"
   ]
  },
  {
   "cell_type": "code",
   "execution_count": 10,
   "id": "cd1df5e5",
   "metadata": {},
   "outputs": [
    {
     "name": "stdout",
     "output_type": "stream",
     "text": [
      "Dataset consists of 5657 rows and 3198 columns\n"
     ]
    }
   ],
   "source": [
    "print(f'Dataset consists of {df.shape[0]} rows and {df.shape[1]} columns')"
   ]
  },
  {
   "cell_type": "markdown",
   "id": "33340272",
   "metadata": {},
   "source": [
    "### 2.3 Exploring basic statistics"
   ]
  },
  {
   "cell_type": "code",
   "execution_count": 23,
   "id": "7c51ee5c",
   "metadata": {},
   "outputs": [
    {
     "data": {
      "text/html": [
       "<div>\n",
       "<style scoped>\n",
       "    .dataframe tbody tr th:only-of-type {\n",
       "        vertical-align: middle;\n",
       "    }\n",
       "\n",
       "    .dataframe tbody tr th {\n",
       "        vertical-align: top;\n",
       "    }\n",
       "\n",
       "    .dataframe thead th {\n",
       "        text-align: right;\n",
       "    }\n",
       "</style>\n",
       "<table border=\"1\" class=\"dataframe\">\n",
       "  <thead>\n",
       "    <tr style=\"text-align: right;\">\n",
       "      <th></th>\n",
       "      <th>count</th>\n",
       "      <th>mean</th>\n",
       "      <th>std</th>\n",
       "      <th>min</th>\n",
       "      <th>25%</th>\n",
       "      <th>50%</th>\n",
       "      <th>75%</th>\n",
       "      <th>max</th>\n",
       "    </tr>\n",
       "  </thead>\n",
       "  <tbody>\n",
       "    <tr>\n",
       "      <th>LABEL</th>\n",
       "      <td>5657.0</td>\n",
       "      <td>1.007424</td>\n",
       "      <td>0.085852</td>\n",
       "      <td>1.00</td>\n",
       "      <td>1.00</td>\n",
       "      <td>1.00</td>\n",
       "      <td>1.00</td>\n",
       "      <td>2.0</td>\n",
       "    </tr>\n",
       "    <tr>\n",
       "      <th>FLUX.1</th>\n",
       "      <td>5657.0</td>\n",
       "      <td>181.877969</td>\n",
       "      <td>20781.963875</td>\n",
       "      <td>-227856.26</td>\n",
       "      <td>-39.84</td>\n",
       "      <td>-0.47</td>\n",
       "      <td>51.71</td>\n",
       "      <td>1439240.5</td>\n",
       "    </tr>\n",
       "    <tr>\n",
       "      <th>FLUX.2</th>\n",
       "      <td>5657.0</td>\n",
       "      <td>189.987960</td>\n",
       "      <td>21054.656517</td>\n",
       "      <td>-315440.76</td>\n",
       "      <td>-37.05</td>\n",
       "      <td>-0.76</td>\n",
       "      <td>46.15</td>\n",
       "      <td>1453319.0</td>\n",
       "    </tr>\n",
       "    <tr>\n",
       "      <th>FLUX.3</th>\n",
       "      <td>5657.0</td>\n",
       "      <td>185.974637</td>\n",
       "      <td>21157.448490</td>\n",
       "      <td>-284001.76</td>\n",
       "      <td>-35.73</td>\n",
       "      <td>-0.82</td>\n",
       "      <td>45.47</td>\n",
       "      <td>1468429.0</td>\n",
       "    </tr>\n",
       "    <tr>\n",
       "      <th>FLUX.4</th>\n",
       "      <td>5657.0</td>\n",
       "      <td>214.941396</td>\n",
       "      <td>21459.248650</td>\n",
       "      <td>-234006.87</td>\n",
       "      <td>-33.18</td>\n",
       "      <td>-0.42</td>\n",
       "      <td>42.50</td>\n",
       "      <td>1495750.0</td>\n",
       "    </tr>\n",
       "    <tr>\n",
       "      <th>FLUX.5</th>\n",
       "      <td>5657.0</td>\n",
       "      <td>193.912781</td>\n",
       "      <td>22247.554224</td>\n",
       "      <td>-423195.62</td>\n",
       "      <td>-30.50</td>\n",
       "      <td>-0.78</td>\n",
       "      <td>41.56</td>\n",
       "      <td>1510937.0</td>\n",
       "    </tr>\n",
       "    <tr>\n",
       "      <th>FLUX.6</th>\n",
       "      <td>5657.0</td>\n",
       "      <td>205.670115</td>\n",
       "      <td>23204.624477</td>\n",
       "      <td>-597552.12</td>\n",
       "      <td>-31.63</td>\n",
       "      <td>-1.16</td>\n",
       "      <td>35.88</td>\n",
       "      <td>1508152.5</td>\n",
       "    </tr>\n",
       "    <tr>\n",
       "      <th>FLUX.7</th>\n",
       "      <td>5657.0</td>\n",
       "      <td>157.200847</td>\n",
       "      <td>23230.965053</td>\n",
       "      <td>-672404.56</td>\n",
       "      <td>-27.41</td>\n",
       "      <td>-1.28</td>\n",
       "      <td>34.27</td>\n",
       "      <td>1465743.0</td>\n",
       "    </tr>\n",
       "    <tr>\n",
       "      <th>FLUX.8</th>\n",
       "      <td>5657.0</td>\n",
       "      <td>175.581633</td>\n",
       "      <td>22083.070436</td>\n",
       "      <td>-579013.56</td>\n",
       "      <td>-26.73</td>\n",
       "      <td>-0.94</td>\n",
       "      <td>31.97</td>\n",
       "      <td>1416827.0</td>\n",
       "    </tr>\n",
       "    <tr>\n",
       "      <th>FLUX.9</th>\n",
       "      <td>5657.0</td>\n",
       "      <td>158.951252</td>\n",
       "      <td>20323.489120</td>\n",
       "      <td>-397388.24</td>\n",
       "      <td>-26.44</td>\n",
       "      <td>-0.86</td>\n",
       "      <td>30.55</td>\n",
       "      <td>1342888.5</td>\n",
       "    </tr>\n",
       "  </tbody>\n",
       "</table>\n",
       "</div>"
      ],
      "text/plain": [
       "         count        mean           std        min    25%   50%    75%  \\\n",
       "LABEL   5657.0    1.007424      0.085852       1.00   1.00  1.00   1.00   \n",
       "FLUX.1  5657.0  181.877969  20781.963875 -227856.26 -39.84 -0.47  51.71   \n",
       "FLUX.2  5657.0  189.987960  21054.656517 -315440.76 -37.05 -0.76  46.15   \n",
       "FLUX.3  5657.0  185.974637  21157.448490 -284001.76 -35.73 -0.82  45.47   \n",
       "FLUX.4  5657.0  214.941396  21459.248650 -234006.87 -33.18 -0.42  42.50   \n",
       "FLUX.5  5657.0  193.912781  22247.554224 -423195.62 -30.50 -0.78  41.56   \n",
       "FLUX.6  5657.0  205.670115  23204.624477 -597552.12 -31.63 -1.16  35.88   \n",
       "FLUX.7  5657.0  157.200847  23230.965053 -672404.56 -27.41 -1.28  34.27   \n",
       "FLUX.8  5657.0  175.581633  22083.070436 -579013.56 -26.73 -0.94  31.97   \n",
       "FLUX.9  5657.0  158.951252  20323.489120 -397388.24 -26.44 -0.86  30.55   \n",
       "\n",
       "              max  \n",
       "LABEL         2.0  \n",
       "FLUX.1  1439240.5  \n",
       "FLUX.2  1453319.0  \n",
       "FLUX.3  1468429.0  \n",
       "FLUX.4  1495750.0  \n",
       "FLUX.5  1510937.0  \n",
       "FLUX.6  1508152.5  \n",
       "FLUX.7  1465743.0  \n",
       "FLUX.8  1416827.0  \n",
       "FLUX.9  1342888.5  "
      ]
     },
     "execution_count": 23,
     "metadata": {},
     "output_type": "execute_result"
    }
   ],
   "source": [
    "# Get basic statistics for all columns\n",
    "stats = df.describe().T\n",
    "\n",
    "# Displaying statistics for the first 10 columns\n",
    "stats.iloc[:10, :]"
   ]
  },
  {
   "cell_type": "code",
   "execution_count": null,
   "id": "4efc37c5",
   "metadata": {},
   "outputs": [],
   "source": []
  },
  {
   "cell_type": "markdown",
   "id": "c65800f5",
   "metadata": {},
   "source": [
    "### Let's change the labels from 1 -> 0 and 2 -> 1 to maintain consistency"
   ]
  },
  {
   "cell_type": "code",
   "execution_count": null,
   "id": "96cd9a2a",
   "metadata": {},
   "outputs": [],
   "source": [
    "categories = {1: 0, 2: 1}\n",
    "try: \n",
    "    df.LABEL = [categories[item] for item in df.LABEL]\n",
    "except KeyError:\n",
    "    print(f\"{KeyError} Keys does not match in LABEL column\")"
   ]
  },
  {
   "cell_type": "code",
   "execution_count": null,
   "id": "f2b7323b",
   "metadata": {},
   "outputs": [],
   "source": [
    "df.describe().T"
   ]
  },
  {
   "cell_type": "code",
   "execution_count": null,
   "id": "0f83497f",
   "metadata": {},
   "outputs": [],
   "source": [
    "# Visulization #1 :- Heatmap for any null values\n",
    "plt.figure(figsize = (4,4))\n",
    "\n",
    "ax = plt.axes()\n",
    "sns.heatmap(df.isnull().T, ax=ax)\n",
    "plt.show()"
   ]
  },
  {
   "cell_type": "markdown",
   "id": "3abe417c",
   "metadata": {},
   "source": [
    "From the heatmap we can see. There are no missing values in the data."
   ]
  },
  {
   "cell_type": "markdown",
   "id": "ba3feb85-f7be-451b-9fb8-417a2cbb1099",
   "metadata": {},
   "source": [
    "## Class distribution"
   ]
  },
  {
   "cell_type": "code",
   "execution_count": null,
   "id": "e273670d-e9c5-4e42-8337-3634bb15f319",
   "metadata": {},
   "outputs": [],
   "source": [
    "df[\"LABEL\"].value_counts()\n",
    "\n",
    "print(f\"From {len(df[\"LABEL\"])} rows, there are {df[\"LABEL\"].value_counts()[0]} non-exoplanets and {df[\"LABEL\"].value_counts()[1]} confirmed exoplanets in the dataset\")"
   ]
  },
  {
   "cell_type": "markdown",
   "id": "6ee4a576",
   "metadata": {},
   "source": [
    "#### The class distribution looks imbalanced. Let's explore it more through visualizations"
   ]
  },
  {
   "cell_type": "markdown",
   "id": "f1e92d09",
   "metadata": {},
   "source": [
    "Pie Chart Distribution"
   ]
  },
  {
   "cell_type": "code",
   "execution_count": null,
   "id": "9e46ef1c-0328-426e-a1ef-66b40f437428",
   "metadata": {},
   "outputs": [],
   "source": [
    "# Visulization #2 :- Plotting class distribution using pie chart\n",
    "fig, ax = plt.subplots()\n",
    "\n",
    "ax.pie(df[\"LABEL\"].value_counts(), labels=[\"Non-Exoplanet\", \"Exoplanet\"], autopct='%1.1f%%');\n",
    "plt.title(\"Class distribution\");\n",
    "plt.show();"
   ]
  },
  {
   "cell_type": "code",
   "execution_count": null,
   "id": "80ac0fe4-f4c1-46d3-96ec-cfb1c84b3949",
   "metadata": {},
   "outputs": [],
   "source": [
    "# Visulization #3 :- Number of Stars with Confirmed Exoplanets or Not\n",
    "plt.title('CLASS DISTRIBUTIONS \\n (0: Not Exoplanet || 1: Exoplanet)', fontsize=20, font='times new roman', weight='bold', color='black')\n",
    "ax = sns.countplot(data=df, x=\"LABEL\")\n",
    "ax.bar_label(ax.containers[0])\n",
    "plt.show()"
   ]
  },
  {
   "cell_type": "code",
   "execution_count": null,
   "metadata": {},
   "outputs": [],
   "source": []
  },
  {
   "cell_type": "code",
   "execution_count": null,
   "id": "cfb924a2",
   "metadata": {},
   "outputs": [],
   "source": [
    "# Setting figure size\n",
    "plt.figure(figsize=(10, 5))\n",
    "\n",
    "# Non-exoplanet star light flux over time\n",
    "row_index = 150 # Selecting random non-exoplanet row\n",
    "fluxes_non_exo = df.iloc[row_index,1:(df.shape[1]//2)].values\n",
    "\n",
    "plt.subplot(1, 2, 1)\n",
    "plt.plot(fluxes_non_exo, color = \"red\")\n",
    "plt.xlabel('Time')\n",
    "plt.ylabel('Flux Level')\n",
    "plt.title(\"Non Exoplanet\")\n",
    "\n",
    "# Exoplanet star light flux over time\n",
    "row_index = 21 # Selecting random exoplanet row\n",
    "fluxes_exo = df.iloc[row_index,1:(df.shape[1]//2)].values\n",
    "\n",
    "plt.subplot(1, 2, 2)\n",
    "plt.plot(fluxes_exo, color = \"red\")\n",
    "plt.xlabel('Time')\n",
    "plt.ylabel('Flux Level')\n",
    "plt.title(\"Exoplanet\")\n",
    "\n",
    "plt.tight_layout()\n",
    "plt.suptitle('Flux variation over time') \n",
    "plt.subplots_adjust(top=0.88)\n",
    "plt.show()"
   ]
  },
  {
   "cell_type": "code",
   "execution_count": null,
   "id": "4efed6fc",
   "metadata": {},
   "outputs": [],
   "source": [
    "# Over sampling the imbalanced class\n",
    "smote = SMOTE(sampling_strategy=1)\n",
    "X_res, y_res = smote.fit_resample(X, y)"
   ]
  },
  {
   "cell_type": "code",
   "execution_count": null,
   "id": "c5825334",
   "metadata": {},
   "outputs": [],
   "source": [
    "y_res.value_counts().plot.pie(autopct = \"%.2f\")"
   ]
  }
 ],
 "metadata": {
  "kernelspec": {
   "display_name": "Python 3 (ipykernel)",
   "language": "python",
   "name": "python3"
  },
  "language_info": {
   "codemirror_mode": {
    "name": "ipython",
    "version": 3
   },
   "file_extension": ".py",
   "mimetype": "text/x-python",
   "name": "python",
   "nbconvert_exporter": "python",
   "pygments_lexer": "ipython3",
   "version": "3.12.3"
  }
 },
 "nbformat": 4,
 "nbformat_minor": 5
}
