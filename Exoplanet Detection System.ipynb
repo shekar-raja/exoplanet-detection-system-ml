{
 "cells": [
  {
   "cell_type": "markdown",
   "id": "7440a016",
   "metadata": {},
   "source": [
    "## 1. Importing Libraries"
   ]
  },
  {
   "cell_type": "markdown",
   "id": "d51b77e5",
   "metadata": {},
   "source": [
    "### 1.1 Importing necassary libraries and adding necessary configurations"
   ]
  },
  {
   "cell_type": "code",
   "execution_count": 98,
   "id": "2398ab60-457e-44f6-a51f-16009f73cac8",
   "metadata": {},
   "outputs": [],
   "source": [
    "# For numeric calculations\n",
    "import numpy as np\n",
    "import pandas as pd\n",
    "\n",
    "# For performing random operations\n",
    "import random\n",
    "\n",
    "# For visualizations\n",
    "import matplotlib.pyplot as plt\n",
    "import seaborn as sns\n",
    "\n",
    "# For balancing the dataset\n",
    "from imblearn.over_sampling import SMOTE\n",
    "\n",
    "# For data preprocessing tasks\n",
    "from sklearn.model_selection import train_test_split\n",
    "from sklearn.decomposition import PCA\n",
    "from sklearn.preprocessing import StandardScaler\n",
    "\n",
    "# For machine learning\n",
    "from sklearn.linear_model import LogisticRegression\n",
    "from sklearn.ensemble import RandomForestClassifier\n",
    "from sklearn.neighbors import KNeighborsClassifier\n",
    "from sklearn.metrics import classification_report, confusion_matrix\n",
    "from sklearn.svm import SVC\n",
    "from xgboost import XGBClassifier\n",
    "from sklearn.neural_network import MLPClassifier\n",
    "\n",
    "import torch\n",
    "import torch.nn as nn\n",
    "import torch.optim as optim\n",
    "\n",
    "# For outlier detection\n",
    "from scipy import stats\n",
    "\n",
    "# Ignore warnings\n",
    "import warnings"
   ]
  },
  {
   "cell_type": "code",
   "execution_count": 61,
   "id": "3305dfe7",
   "metadata": {},
   "outputs": [],
   "source": [
    "# Configurations\n",
    "%matplotlib inline\n",
    "warnings.filterwarnings('ignore')\n",
    "random.seed(21)"
   ]
  },
  {
   "cell_type": "markdown",
   "id": "26a845c1",
   "metadata": {},
   "source": [
    "## 2. Import data"
   ]
  },
  {
   "cell_type": "markdown",
   "id": "aa98d83f",
   "metadata": {},
   "source": [
    "### 2.1 Importing train and test data"
   ]
  },
  {
   "cell_type": "code",
   "execution_count": 62,
   "id": "32c053e5-e1fb-4050-8470-e785c543f38a",
   "metadata": {},
   "outputs": [],
   "source": [
    "# Importing train data\n",
    "train_dataset_path = \"./dataset/exoTrain.csv\"\n",
    "train_df = pd.read_csv(train_dataset_path, sep=\",\")\n",
    "\n",
    "# Importing test data\n",
    "test_dataset_path = \"./dataset/exoTest.csv\"\n",
    "test_df = pd.read_csv(test_dataset_path, sep=\",\")"
   ]
  },
  {
   "cell_type": "markdown",
   "id": "46830d45",
   "metadata": {},
   "source": [
    "### 2.2 Combining the datasets"
   ]
  },
  {
   "cell_type": "code",
   "execution_count": 63,
   "id": "c4ff099e",
   "metadata": {},
   "outputs": [
    {
     "data": {
      "text/html": [
       "<div>\n",
       "<style scoped>\n",
       "    .dataframe tbody tr th:only-of-type {\n",
       "        vertical-align: middle;\n",
       "    }\n",
       "\n",
       "    .dataframe tbody tr th {\n",
       "        vertical-align: top;\n",
       "    }\n",
       "\n",
       "    .dataframe thead th {\n",
       "        text-align: right;\n",
       "    }\n",
       "</style>\n",
       "<table border=\"1\" class=\"dataframe\">\n",
       "  <thead>\n",
       "    <tr style=\"text-align: right;\">\n",
       "      <th></th>\n",
       "      <th>LABEL</th>\n",
       "      <th>FLUX.1</th>\n",
       "      <th>FLUX.2</th>\n",
       "      <th>FLUX.3</th>\n",
       "      <th>FLUX.4</th>\n",
       "      <th>FLUX.5</th>\n",
       "      <th>FLUX.6</th>\n",
       "      <th>FLUX.7</th>\n",
       "      <th>FLUX.8</th>\n",
       "      <th>FLUX.9</th>\n",
       "      <th>...</th>\n",
       "      <th>FLUX.3188</th>\n",
       "      <th>FLUX.3189</th>\n",
       "      <th>FLUX.3190</th>\n",
       "      <th>FLUX.3191</th>\n",
       "      <th>FLUX.3192</th>\n",
       "      <th>FLUX.3193</th>\n",
       "      <th>FLUX.3194</th>\n",
       "      <th>FLUX.3195</th>\n",
       "      <th>FLUX.3196</th>\n",
       "      <th>FLUX.3197</th>\n",
       "    </tr>\n",
       "  </thead>\n",
       "  <tbody>\n",
       "    <tr>\n",
       "      <th>0</th>\n",
       "      <td>2</td>\n",
       "      <td>93.85</td>\n",
       "      <td>83.81</td>\n",
       "      <td>20.10</td>\n",
       "      <td>-26.98</td>\n",
       "      <td>-39.56</td>\n",
       "      <td>-124.71</td>\n",
       "      <td>-135.18</td>\n",
       "      <td>-96.27</td>\n",
       "      <td>-79.89</td>\n",
       "      <td>...</td>\n",
       "      <td>-78.07</td>\n",
       "      <td>-102.15</td>\n",
       "      <td>-102.15</td>\n",
       "      <td>25.13</td>\n",
       "      <td>48.57</td>\n",
       "      <td>92.54</td>\n",
       "      <td>39.32</td>\n",
       "      <td>61.42</td>\n",
       "      <td>5.08</td>\n",
       "      <td>-39.54</td>\n",
       "    </tr>\n",
       "    <tr>\n",
       "      <th>1</th>\n",
       "      <td>2</td>\n",
       "      <td>-38.88</td>\n",
       "      <td>-33.83</td>\n",
       "      <td>-58.54</td>\n",
       "      <td>-40.09</td>\n",
       "      <td>-79.31</td>\n",
       "      <td>-72.81</td>\n",
       "      <td>-86.55</td>\n",
       "      <td>-85.33</td>\n",
       "      <td>-83.97</td>\n",
       "      <td>...</td>\n",
       "      <td>-3.28</td>\n",
       "      <td>-32.21</td>\n",
       "      <td>-32.21</td>\n",
       "      <td>-24.89</td>\n",
       "      <td>-4.86</td>\n",
       "      <td>0.76</td>\n",
       "      <td>-11.70</td>\n",
       "      <td>6.46</td>\n",
       "      <td>16.00</td>\n",
       "      <td>19.93</td>\n",
       "    </tr>\n",
       "    <tr>\n",
       "      <th>2</th>\n",
       "      <td>2</td>\n",
       "      <td>532.64</td>\n",
       "      <td>535.92</td>\n",
       "      <td>513.73</td>\n",
       "      <td>496.92</td>\n",
       "      <td>456.45</td>\n",
       "      <td>466.00</td>\n",
       "      <td>464.50</td>\n",
       "      <td>486.39</td>\n",
       "      <td>436.56</td>\n",
       "      <td>...</td>\n",
       "      <td>-71.69</td>\n",
       "      <td>13.31</td>\n",
       "      <td>13.31</td>\n",
       "      <td>-29.89</td>\n",
       "      <td>-20.88</td>\n",
       "      <td>5.06</td>\n",
       "      <td>-11.80</td>\n",
       "      <td>-28.91</td>\n",
       "      <td>-70.02</td>\n",
       "      <td>-96.67</td>\n",
       "    </tr>\n",
       "    <tr>\n",
       "      <th>3</th>\n",
       "      <td>2</td>\n",
       "      <td>326.52</td>\n",
       "      <td>347.39</td>\n",
       "      <td>302.35</td>\n",
       "      <td>298.13</td>\n",
       "      <td>317.74</td>\n",
       "      <td>312.70</td>\n",
       "      <td>322.33</td>\n",
       "      <td>311.31</td>\n",
       "      <td>312.42</td>\n",
       "      <td>...</td>\n",
       "      <td>5.71</td>\n",
       "      <td>-3.73</td>\n",
       "      <td>-3.73</td>\n",
       "      <td>30.05</td>\n",
       "      <td>20.03</td>\n",
       "      <td>-12.67</td>\n",
       "      <td>-8.77</td>\n",
       "      <td>-17.31</td>\n",
       "      <td>-17.35</td>\n",
       "      <td>13.98</td>\n",
       "    </tr>\n",
       "    <tr>\n",
       "      <th>4</th>\n",
       "      <td>2</td>\n",
       "      <td>-1107.21</td>\n",
       "      <td>-1112.59</td>\n",
       "      <td>-1118.95</td>\n",
       "      <td>-1095.10</td>\n",
       "      <td>-1057.55</td>\n",
       "      <td>-1034.48</td>\n",
       "      <td>-998.34</td>\n",
       "      <td>-1022.71</td>\n",
       "      <td>-989.57</td>\n",
       "      <td>...</td>\n",
       "      <td>-594.37</td>\n",
       "      <td>-401.66</td>\n",
       "      <td>-401.66</td>\n",
       "      <td>-357.24</td>\n",
       "      <td>-443.76</td>\n",
       "      <td>-438.54</td>\n",
       "      <td>-399.71</td>\n",
       "      <td>-384.65</td>\n",
       "      <td>-411.79</td>\n",
       "      <td>-510.54</td>\n",
       "    </tr>\n",
       "  </tbody>\n",
       "</table>\n",
       "<p>5 rows × 3198 columns</p>\n",
       "</div>"
      ],
      "text/plain": [
       "   LABEL   FLUX.1   FLUX.2   FLUX.3   FLUX.4   FLUX.5   FLUX.6  FLUX.7  \\\n",
       "0      2    93.85    83.81    20.10   -26.98   -39.56  -124.71 -135.18   \n",
       "1      2   -38.88   -33.83   -58.54   -40.09   -79.31   -72.81  -86.55   \n",
       "2      2   532.64   535.92   513.73   496.92   456.45   466.00  464.50   \n",
       "3      2   326.52   347.39   302.35   298.13   317.74   312.70  322.33   \n",
       "4      2 -1107.21 -1112.59 -1118.95 -1095.10 -1057.55 -1034.48 -998.34   \n",
       "\n",
       "    FLUX.8  FLUX.9  ...  FLUX.3188  FLUX.3189  FLUX.3190  FLUX.3191  \\\n",
       "0   -96.27  -79.89  ...     -78.07    -102.15    -102.15      25.13   \n",
       "1   -85.33  -83.97  ...      -3.28     -32.21     -32.21     -24.89   \n",
       "2   486.39  436.56  ...     -71.69      13.31      13.31     -29.89   \n",
       "3   311.31  312.42  ...       5.71      -3.73      -3.73      30.05   \n",
       "4 -1022.71 -989.57  ...    -594.37    -401.66    -401.66    -357.24   \n",
       "\n",
       "   FLUX.3192  FLUX.3193  FLUX.3194  FLUX.3195  FLUX.3196  FLUX.3197  \n",
       "0      48.57      92.54      39.32      61.42       5.08     -39.54  \n",
       "1      -4.86       0.76     -11.70       6.46      16.00      19.93  \n",
       "2     -20.88       5.06     -11.80     -28.91     -70.02     -96.67  \n",
       "3      20.03     -12.67      -8.77     -17.31     -17.35      13.98  \n",
       "4    -443.76    -438.54    -399.71    -384.65    -411.79    -510.54  \n",
       "\n",
       "[5 rows x 3198 columns]"
      ]
     },
     "execution_count": 63,
     "metadata": {},
     "output_type": "execute_result"
    }
   ],
   "source": [
    "# Combining two dataframes for further investigation\n",
    "df = pd.concat([train_df, test_df])\n",
    "df.head(5)"
   ]
  },
  {
   "cell_type": "code",
   "execution_count": 64,
   "id": "f88b1a9a",
   "metadata": {},
   "outputs": [
    {
     "data": {
      "text/plain": [
       "(5657, 3198)"
      ]
     },
     "execution_count": 64,
     "metadata": {},
     "output_type": "execute_result"
    }
   ],
   "source": [
    "df.shape"
   ]
  },
  {
   "cell_type": "code",
   "execution_count": 65,
   "id": "cd1df5e5",
   "metadata": {},
   "outputs": [
    {
     "name": "stdout",
     "output_type": "stream",
     "text": [
      "Dataset consists of 5657 rows and 3198 columns\n"
     ]
    }
   ],
   "source": [
    "print(f'Dataset consists of {df.shape[0]} rows and {df.shape[1]} columns')"
   ]
  },
  {
   "cell_type": "markdown",
   "id": "33340272",
   "metadata": {},
   "source": [
    "### 2.3 Exploring basic statistics"
   ]
  },
  {
   "cell_type": "code",
   "execution_count": 66,
   "id": "7c51ee5c",
   "metadata": {},
   "outputs": [
    {
     "data": {
      "text/html": [
       "<div>\n",
       "<style scoped>\n",
       "    .dataframe tbody tr th:only-of-type {\n",
       "        vertical-align: middle;\n",
       "    }\n",
       "\n",
       "    .dataframe tbody tr th {\n",
       "        vertical-align: top;\n",
       "    }\n",
       "\n",
       "    .dataframe thead th {\n",
       "        text-align: right;\n",
       "    }\n",
       "</style>\n",
       "<table border=\"1\" class=\"dataframe\">\n",
       "  <thead>\n",
       "    <tr style=\"text-align: right;\">\n",
       "      <th></th>\n",
       "      <th>count</th>\n",
       "      <th>mean</th>\n",
       "      <th>std</th>\n",
       "      <th>min</th>\n",
       "      <th>25%</th>\n",
       "      <th>50%</th>\n",
       "      <th>75%</th>\n",
       "      <th>max</th>\n",
       "    </tr>\n",
       "  </thead>\n",
       "  <tbody>\n",
       "    <tr>\n",
       "      <th>LABEL</th>\n",
       "      <td>5657.0</td>\n",
       "      <td>1.007424</td>\n",
       "      <td>0.085852</td>\n",
       "      <td>1.00</td>\n",
       "      <td>1.00</td>\n",
       "      <td>1.00</td>\n",
       "      <td>1.00</td>\n",
       "      <td>2.0</td>\n",
       "    </tr>\n",
       "    <tr>\n",
       "      <th>FLUX.1</th>\n",
       "      <td>5657.0</td>\n",
       "      <td>181.877969</td>\n",
       "      <td>20781.963875</td>\n",
       "      <td>-227856.26</td>\n",
       "      <td>-39.84</td>\n",
       "      <td>-0.47</td>\n",
       "      <td>51.71</td>\n",
       "      <td>1439240.5</td>\n",
       "    </tr>\n",
       "    <tr>\n",
       "      <th>FLUX.2</th>\n",
       "      <td>5657.0</td>\n",
       "      <td>189.987960</td>\n",
       "      <td>21054.656517</td>\n",
       "      <td>-315440.76</td>\n",
       "      <td>-37.05</td>\n",
       "      <td>-0.76</td>\n",
       "      <td>46.15</td>\n",
       "      <td>1453319.0</td>\n",
       "    </tr>\n",
       "    <tr>\n",
       "      <th>FLUX.3</th>\n",
       "      <td>5657.0</td>\n",
       "      <td>185.974637</td>\n",
       "      <td>21157.448490</td>\n",
       "      <td>-284001.76</td>\n",
       "      <td>-35.73</td>\n",
       "      <td>-0.82</td>\n",
       "      <td>45.47</td>\n",
       "      <td>1468429.0</td>\n",
       "    </tr>\n",
       "    <tr>\n",
       "      <th>FLUX.4</th>\n",
       "      <td>5657.0</td>\n",
       "      <td>214.941396</td>\n",
       "      <td>21459.248650</td>\n",
       "      <td>-234006.87</td>\n",
       "      <td>-33.18</td>\n",
       "      <td>-0.42</td>\n",
       "      <td>42.50</td>\n",
       "      <td>1495750.0</td>\n",
       "    </tr>\n",
       "    <tr>\n",
       "      <th>FLUX.5</th>\n",
       "      <td>5657.0</td>\n",
       "      <td>193.912781</td>\n",
       "      <td>22247.554224</td>\n",
       "      <td>-423195.62</td>\n",
       "      <td>-30.50</td>\n",
       "      <td>-0.78</td>\n",
       "      <td>41.56</td>\n",
       "      <td>1510937.0</td>\n",
       "    </tr>\n",
       "    <tr>\n",
       "      <th>FLUX.6</th>\n",
       "      <td>5657.0</td>\n",
       "      <td>205.670115</td>\n",
       "      <td>23204.624477</td>\n",
       "      <td>-597552.12</td>\n",
       "      <td>-31.63</td>\n",
       "      <td>-1.16</td>\n",
       "      <td>35.88</td>\n",
       "      <td>1508152.5</td>\n",
       "    </tr>\n",
       "    <tr>\n",
       "      <th>FLUX.7</th>\n",
       "      <td>5657.0</td>\n",
       "      <td>157.200847</td>\n",
       "      <td>23230.965053</td>\n",
       "      <td>-672404.56</td>\n",
       "      <td>-27.41</td>\n",
       "      <td>-1.28</td>\n",
       "      <td>34.27</td>\n",
       "      <td>1465743.0</td>\n",
       "    </tr>\n",
       "    <tr>\n",
       "      <th>FLUX.8</th>\n",
       "      <td>5657.0</td>\n",
       "      <td>175.581633</td>\n",
       "      <td>22083.070436</td>\n",
       "      <td>-579013.56</td>\n",
       "      <td>-26.73</td>\n",
       "      <td>-0.94</td>\n",
       "      <td>31.97</td>\n",
       "      <td>1416827.0</td>\n",
       "    </tr>\n",
       "    <tr>\n",
       "      <th>FLUX.9</th>\n",
       "      <td>5657.0</td>\n",
       "      <td>158.951252</td>\n",
       "      <td>20323.489120</td>\n",
       "      <td>-397388.24</td>\n",
       "      <td>-26.44</td>\n",
       "      <td>-0.86</td>\n",
       "      <td>30.55</td>\n",
       "      <td>1342888.5</td>\n",
       "    </tr>\n",
       "  </tbody>\n",
       "</table>\n",
       "</div>"
      ],
      "text/plain": [
       "         count        mean           std        min    25%   50%    75%  \\\n",
       "LABEL   5657.0    1.007424      0.085852       1.00   1.00  1.00   1.00   \n",
       "FLUX.1  5657.0  181.877969  20781.963875 -227856.26 -39.84 -0.47  51.71   \n",
       "FLUX.2  5657.0  189.987960  21054.656517 -315440.76 -37.05 -0.76  46.15   \n",
       "FLUX.3  5657.0  185.974637  21157.448490 -284001.76 -35.73 -0.82  45.47   \n",
       "FLUX.4  5657.0  214.941396  21459.248650 -234006.87 -33.18 -0.42  42.50   \n",
       "FLUX.5  5657.0  193.912781  22247.554224 -423195.62 -30.50 -0.78  41.56   \n",
       "FLUX.6  5657.0  205.670115  23204.624477 -597552.12 -31.63 -1.16  35.88   \n",
       "FLUX.7  5657.0  157.200847  23230.965053 -672404.56 -27.41 -1.28  34.27   \n",
       "FLUX.8  5657.0  175.581633  22083.070436 -579013.56 -26.73 -0.94  31.97   \n",
       "FLUX.9  5657.0  158.951252  20323.489120 -397388.24 -26.44 -0.86  30.55   \n",
       "\n",
       "              max  \n",
       "LABEL         2.0  \n",
       "FLUX.1  1439240.5  \n",
       "FLUX.2  1453319.0  \n",
       "FLUX.3  1468429.0  \n",
       "FLUX.4  1495750.0  \n",
       "FLUX.5  1510937.0  \n",
       "FLUX.6  1508152.5  \n",
       "FLUX.7  1465743.0  \n",
       "FLUX.8  1416827.0  \n",
       "FLUX.9  1342888.5  "
      ]
     },
     "execution_count": 66,
     "metadata": {},
     "output_type": "execute_result"
    }
   ],
   "source": [
    "# Get basic statistics for all columns\n",
    "basic_stats = df.describe().T\n",
    "\n",
    "# Displaying statistics for the first 10 columns\n",
    "basic_stats.iloc[:10, :]"
   ]
  },
  {
   "cell_type": "markdown",
   "id": "862044bc",
   "metadata": {},
   "source": [
    "## 3. Exploratory Data Analysis"
   ]
  },
  {
   "cell_type": "markdown",
   "id": "4951ef69",
   "metadata": {},
   "source": [
    "### 3.1 Looking into datatypes"
   ]
  },
  {
   "cell_type": "code",
   "execution_count": 67,
   "id": "c158d016",
   "metadata": {},
   "outputs": [
    {
     "name": "stdout",
     "output_type": "stream",
     "text": [
      "LABEL          int64\n",
      "FLUX.1       float64\n",
      "FLUX.2       float64\n",
      "FLUX.3       float64\n",
      "FLUX.4       float64\n",
      "              ...   \n",
      "FLUX.3193    float64\n",
      "FLUX.3194    float64\n",
      "FLUX.3195    float64\n",
      "FLUX.3196    float64\n",
      "FLUX.3197    float64\n",
      "Length: 3198, dtype: object\n"
     ]
    }
   ],
   "source": [
    "print(df.dtypes)"
   ]
  },
  {
   "cell_type": "markdown",
   "id": "36e9451f",
   "metadata": {},
   "source": [
    "All of the datatypes are `int64` and `float64`"
   ]
  },
  {
   "cell_type": "code",
   "execution_count": 68,
   "id": "9077efeb",
   "metadata": {},
   "outputs": [
    {
     "name": "stdout",
     "output_type": "stream",
     "text": [
      "<class 'pandas.core.frame.DataFrame'>\n",
      "Index: 5657 entries, 0 to 569\n",
      "Columns: 3198 entries, LABEL to FLUX.3197\n",
      "dtypes: float64(3197), int64(1)\n",
      "memory usage: 138.1 MB\n",
      "None\n"
     ]
    }
   ],
   "source": [
    "print(df.info())"
   ]
  },
  {
   "cell_type": "markdown",
   "id": "43cb06a1",
   "metadata": {},
   "source": [
    "### 3.2 Check for missing values"
   ]
  },
  {
   "cell_type": "code",
   "execution_count": 69,
   "id": "d2d7cb0c",
   "metadata": {},
   "outputs": [
    {
     "data": {
      "text/plain": [
       "LABEL        0\n",
       "FLUX.1       0\n",
       "FLUX.2       0\n",
       "FLUX.3       0\n",
       "FLUX.4       0\n",
       "            ..\n",
       "FLUX.3193    0\n",
       "FLUX.3194    0\n",
       "FLUX.3195    0\n",
       "FLUX.3196    0\n",
       "FLUX.3197    0\n",
       "Length: 3198, dtype: int64"
      ]
     },
     "execution_count": 69,
     "metadata": {},
     "output_type": "execute_result"
    }
   ],
   "source": [
    "df.isnull().sum()\n",
    "# # Visulization #1 :- Heatmap for any null values\n",
    "# plt.figure(figsize = (4,4))\n",
    "\n",
    "# ax = plt.axes()\n",
    "# sns.heatmap(df.isnull().T, ax=ax)\n",
    "# plt.show()"
   ]
  },
  {
   "cell_type": "markdown",
   "id": "c7c9c2b7",
   "metadata": {},
   "source": [
    "No null values"
   ]
  },
  {
   "cell_type": "markdown",
   "id": "3d448172",
   "metadata": {},
   "source": [
    "### 3.3 Outlier Detection - Pending"
   ]
  },
  {
   "cell_type": "code",
   "execution_count": 70,
   "id": "f699d39e",
   "metadata": {},
   "outputs": [
    {
     "name": "stdout",
     "output_type": "stream",
     "text": [
      "X shape before removing outliers: (5657, 3197)\n",
      "y shape before removing outliers: (5657,)\n",
      "X shape after removing outliers: (5578, 3197)\n",
      "y shape after removing outliers: (5578,)\n"
     ]
    }
   ],
   "source": [
    "# X = df.drop(\"LABEL\", axis=1)\n",
    "# y = df[\"LABEL\"]\n",
    "\n",
    "# z_scores = np.abs(stats.zscore(X))\n",
    "# outliers = np.where(z_scores > 3)\n",
    "\n",
    "# X_no_outliers = X[(z_scores < 3).all(axis=1)]\n",
    "# y_no_outliers = y[(z_scores < 3).all(axis=1)]\n",
    "\n",
    "# # Check the shape of the data without outliers\n",
    "# print(f'X shape before removing outliers: {X.shape}')\n",
    "# print(f'y shape before removing outliers: {y.shape}')\n",
    "\n",
    "# # Check the shape of the data without outliers\n",
    "# print(f'X shape after removing outliers: {X_no_outliers.shape}')\n",
    "# print(f'y shape after removing outliers: {y_no_outliers.shape}')"
   ]
  },
  {
   "cell_type": "markdown",
   "id": "b8e7d6c8",
   "metadata": {},
   "source": [
    "### 3.4 Light Flux Differences"
   ]
  },
  {
   "cell_type": "markdown",
   "id": "891399f7",
   "metadata": {},
   "source": [
    "Let's see the difference between light curves of a exoplanet and non-exoplanet"
   ]
  },
  {
   "cell_type": "code",
   "execution_count": 101,
   "id": "c1bc3f77",
   "metadata": {},
   "outputs": [
    {
     "data": {
      "image/png": "[encoded data removed]",
      "text/plain": [
       "<Figure size 1000x500 with 2 Axes>"
      ]
     },
     "metadata": {},
     "output_type": "display_data"
    }
   ],
   "source": [
    "# Setting figure size\n",
    "plt.figure(figsize=(10, 5))\n",
    "\n",
    "# Non-exoplanet star light flux over time\n",
    "row_index = 150 # Selecting random non-exoplanet row\n",
    "column_end_index = df.shape[1]//2 # Selecting half of the flux values to plot\n",
    "fluxes_non_exo = df.iloc[\n",
    "                    row_index,\n",
    "                    1: column_end_index\n",
    "                ].values\n",
    "\n",
    "plt.subplot(1, 2, 1)\n",
    "plt.plot(fluxes_non_exo, color = \"red\")\n",
    "plt.xlabel('Time')\n",
    "plt.ylabel('Flux Level')\n",
    "plt.title(\"Non Exoplanet\")\n",
    "\n",
    "# Exoplanet star light flux over time\n",
    "row_index = 21 # Selecting random exoplanet row\n",
    "column_end_index = df.shape[1]//2 # Selecting half of the flux values to plot\n",
    "fluxes_exo = df.iloc[\n",
    "                row_index,\n",
    "                1: column_end_index\n",
    "            ].values\n",
    "\n",
    "plt.subplot(1, 2, 2)\n",
    "plt.plot(fluxes_exo, color = \"blue\")\n",
    "plt.xlabel('Time')\n",
    "plt.ylabel('Flux Level')\n",
    "plt.title(\"Exoplanet\")\n",
    "\n",
    "plt.tight_layout()\n",
    "plt.suptitle('Flux variation over time') \n",
    "plt.subplots_adjust(top=0.88)\n",
    "plt.show()"
   ]
  },
  {
   "cell_type": "markdown",
   "id": "4006dddf",
   "metadata": {},
   "source": [
    "### 3.5 Class Distribution"
   ]
  },
  {
   "cell_type": "markdown",
   "id": "c65800f5",
   "metadata": {},
   "source": [
    " Let's change the labels from 1 -> 0 and 2 -> 1 to maintain consistency"
   ]
  },
  {
   "cell_type": "code",
   "execution_count": 72,
   "id": "96cd9a2a",
   "metadata": {},
   "outputs": [],
   "source": [
    "categories = {1: 0, 2: 1}\n",
    "try:\n",
    "    df.LABEL = [categories[key] for key in df.LABEL]\n",
    "except KeyError:\n",
    "    print(f\"{KeyError} Keys does not match in LABEL column\")"
   ]
  },
  {
   "cell_type": "code",
   "execution_count": 73,
   "id": "e273670d-e9c5-4e42-8337-3634bb15f319",
   "metadata": {},
   "outputs": [
    {
     "name": "stdout",
     "output_type": "stream",
     "text": [
      "From 5657 rows, there are 5615 non-exoplanets and 42 confirmed exoplanets in the dataset\n"
     ]
    }
   ],
   "source": [
    "df[\"LABEL\"].value_counts()\n",
    "\n",
    "print(f\"From {len(df[\"LABEL\"])} rows, there are {df[\"LABEL\"].value_counts()[0]} non-exoplanets and {df[\"LABEL\"].value_counts()[1]} confirmed exoplanets in the dataset\")"
   ]
  },
  {
   "cell_type": "markdown",
   "id": "6ee4a576",
   "metadata": {},
   "source": [
    "The class distribution looks imbalanced. Let's explore it more through visualizations"
   ]
  },
  {
   "cell_type": "markdown",
   "id": "f1e92d09",
   "metadata": {},
   "source": [
    "Pie Chart Distribution"
   ]
  },
  {
   "cell_type": "code",
   "execution_count": 74,
   "id": "9e46ef1c-0328-426e-a1ef-66b40f437428",
   "metadata": {},
   "outputs": [
    {
     "data": {
      "image/png": "[encoded data removed]",
      "text/plain": [
       "<Figure size 640x480 with 1 Axes>"
      ]
     },
     "metadata": {},
     "output_type": "display_data"
    }
   ],
   "source": [
    "# Visulization #1 :- Plotting class distribution using pie chart\n",
    "fig, ax = plt.subplots()\n",
    "labels=[\"Non-Exoplanet\", \"Exoplanet\"]\n",
    "\n",
    "ax.pie(df[\"LABEL\"].value_counts(), autopct='%.0f%%');\n",
    "plt.title(\"Exoplanet Class distribution\");\n",
    "plt.legend(labels=labels)\n",
    "plt.show();"
   ]
  },
  {
   "cell_type": "code",
   "execution_count": 75,
   "id": "80ac0fe4-f4c1-46d3-96ec-cfb1c84b3949",
   "metadata": {},
   "outputs": [
    {
     "data": {
      "image/png": "[encoded data removed]",
      "text/plain": [
       "<Figure size 640x480 with 1 Axes>"
      ]
     },
     "metadata": {},
     "output_type": "display_data"
    }
   ],
   "source": [
    "# Visulization #2 :- Number of Stars with Confirmed Exoplanets or Not\n",
    "plt.title('Exoplanet Class Distribution \\n (0: Non-Exoplanet | 1: Exoplanet)', fontsize=20, font='times new roman', weight='bold', color='black')\n",
    "ax = sns.countplot(data=df, x=\"LABEL\")\n",
    "ax.bar_label(ax.containers[0])\n",
    "plt.show();"
   ]
  },
  {
   "cell_type": "markdown",
   "id": "77046e0b",
   "metadata": {},
   "source": [
    "We can see there's a class imbalance between non-exoplanet and exoplanet. We need to perform Synthetic Minority Over-sampling Technique (SMOTE) to make our machine learning generalize well. We use SMOTE technique because it generates synthetic samples for the minority class in the dataset."
   ]
  },
  {
   "cell_type": "markdown",
   "id": "bae887ed",
   "metadata": {},
   "source": [
    "Let's split the dataset into X, y before performing SMOTE."
   ]
  },
  {
   "cell_type": "code",
   "execution_count": 76,
   "id": "ecbeb326",
   "metadata": {},
   "outputs": [
    {
     "name": "stdout",
     "output_type": "stream",
     "text": [
      "Initial X shape: (5657, 3197)\n",
      "Initial y shape: (5657,)\n"
     ]
    }
   ],
   "source": [
    "X = df.drop(\"LABEL\", axis=1)\n",
    "y = df[\"LABEL\"]\n",
    "\n",
    "# Check initial shapes\n",
    "print(f'Initial X shape: {X.shape}')\n",
    "print(f'Initial y shape: {y.shape}')"
   ]
  },
  {
   "cell_type": "code",
   "execution_count": 77,
   "id": "6c30947b",
   "metadata": {},
   "outputs": [
    {
     "name": "stdout",
     "output_type": "stream",
     "text": [
      "Resampled X shape: (11230, 3197)\n",
      "Resampled y shape: (11230,)\n"
     ]
    }
   ],
   "source": [
    "# Over sampling the imbalanced class\n",
    "smote = SMOTE(random_state=21)\n",
    "X_resampled, y_resampled = smote.fit_resample(X, y)\n",
    "\n",
    "# Check resampled shapes\n",
    "print(f'Resampled X shape: {X_resampled.shape}')\n",
    "print(f'Resampled y shape: {y_resampled.shape}')"
   ]
  },
  {
   "cell_type": "code",
   "execution_count": 78,
   "id": "87fc438f",
   "metadata": {},
   "outputs": [
    {
     "name": "stdout",
     "output_type": "stream",
     "text": [
      "Original class distribution:\n",
      "LABEL\n",
      "0    5615\n",
      "1      42\n",
      "Name: count, dtype: int64\n",
      "Resampled class distribution:\n",
      "LABEL\n",
      "1    5615\n",
      "0    5615\n",
      "Name: count, dtype: int64\n"
     ]
    }
   ],
   "source": [
    "# Check the class distribution before and after SMOTE\n",
    "print('Original class distribution:')\n",
    "print(y.value_counts())\n",
    "\n",
    "print('Resampled class distribution:')\n",
    "print(pd.Series(y_resampled).value_counts())"
   ]
  },
  {
   "cell_type": "markdown",
   "id": "dfd48c1f",
   "metadata": {},
   "source": [
    "Let's create a new dataframe with X_resampled and y_resampled data."
   ]
  },
  {
   "cell_type": "code",
   "execution_count": 79,
   "id": "aa44f51a",
   "metadata": {},
   "outputs": [
    {
     "data": {
      "text/plain": [
       "LABEL\n",
       "1    5615\n",
       "0    5615\n",
       "Name: count, dtype: int64"
      ]
     },
     "execution_count": 79,
     "metadata": {},
     "output_type": "execute_result"
    }
   ],
   "source": [
    "# Converting the resampled data into pandas DataFrame\n",
    "X_new = pd.DataFrame(X_resampled, columns=X.columns)\n",
    "y_new = pd.DataFrame(y_resampled, columns=[\"LABEL\"])\n",
    "\n",
    "# Combining both dataframes\n",
    "resampled_df = pd.concat([X_new, y_new], axis=1)\n",
    "\n",
    "resampled_df[\"LABEL\"].value_counts()"
   ]
  },
  {
   "cell_type": "code",
   "execution_count": 80,
   "id": "9163d646",
   "metadata": {},
   "outputs": [
    {
     "data": {
      "image/png": "[encoded data removed]",
      "text/plain": [
       "<Figure size 640x480 with 1 Axes>"
      ]
     },
     "metadata": {},
     "output_type": "display_data"
    }
   ],
   "source": [
    "# Visulization #3 :- Plotting class distribution using pie chart after resampling\n",
    "fig, ax = plt.subplots()\n",
    "labels=[\"Non-Exoplanet\", \"Exoplanet\"]\n",
    "\n",
    "ax.pie(resampled_df[\"LABEL\"].value_counts(), autopct='%.0f%%');\n",
    "plt.title(\"Exoplanet Class distribution\");\n",
    "plt.legend(labels=labels)\n",
    "plt.show();"
   ]
  },
  {
   "cell_type": "code",
   "execution_count": 81,
   "id": "981cc0b7",
   "metadata": {},
   "outputs": [
    {
     "data": {
      "image/png": "[encoded data removed]",
      "text/plain": [
       "<Figure size 640x480 with 1 Axes>"
      ]
     },
     "metadata": {},
     "output_type": "display_data"
    }
   ],
   "source": [
    "# Visulization #4 :- Number of Stars with Confirmed Exoplanets or Not\n",
    "plt.title('Exoplanet Class Distribution \\n (0: Non-Exoplanet | 1: Exoplanet)', fontsize=20, font='times new roman', weight='bold', color='black')\n",
    "ax = sns.countplot(data=resampled_df, x=\"LABEL\")\n",
    "ax.bar_label(ax.containers[0])\n",
    "plt.show();"
   ]
  },
  {
   "cell_type": "markdown",
   "id": "f91c09e6",
   "metadata": {},
   "source": [
    "Now the classes have been balanced."
   ]
  },
  {
   "cell_type": "markdown",
   "id": "1e33a974",
   "metadata": {},
   "source": [
    "As we have lots of features, let's see how well the features are correlated and check whether we need to perform Principal Component Analysis (PCA) or not. We select random features and visualize their correlation matrix"
   ]
  },
  {
   "cell_type": "code",
   "execution_count": 82,
   "id": "a95ca47c",
   "metadata": {},
   "outputs": [
    {
     "data": {
      "image/png": "[encoded data removed]",
      "text/plain": [
       "<Figure size 1300x800 with 2 Axes>"
      ]
     },
     "metadata": {},
     "output_type": "display_data"
    }
   ],
   "source": [
    "# Visualization #5 :- Correlation Matrix Heatmap of Random FLUX Columns\n",
    "\n",
    "random.seed(21) # For reproducibility\n",
    "\n",
    "# Select a random sample of 20 FLUX columns for the heatmap\n",
    "random_columns = random.sample([column for column in resampled_df.columns if 'FLUX' in column], 20)\n",
    "\n",
    "# Calculate the correlation matrix\n",
    "correlation_matrix = resampled_df[random_columns].corr()\n",
    "\n",
    "# Plot the heatmap\n",
    "plt.figure(figsize=(13, 8))\n",
    "sns.heatmap(correlation_matrix, annot=True, cmap='coolwarm')\n",
    "plt.title('Correlation Heatmap of Random FLUX Columns')\n",
    "plt.show()"
   ]
  },
  {
   "cell_type": "markdown",
   "id": "76fad207",
   "metadata": {},
   "source": [
    "Fluxes within the range of 300-500 are correlated than the fluxes with the range >= 1000. \n",
    "\n",
    "Eg: FLUX.676 and FLUX.594 are highly correlated where as FLUX.676 and FLUX.1945 are not correlated."
   ]
  },
  {
   "cell_type": "markdown",
   "id": "be34d146",
   "metadata": {},
   "source": [
    "## 4. Data Preprocessing"
   ]
  },
  {
   "cell_type": "markdown",
   "id": "0119172b",
   "metadata": {},
   "source": [
    "### 4.1 Princial Component Analysis (PCA)"
   ]
  },
  {
   "cell_type": "markdown",
   "id": "3458d7a3",
   "metadata": {},
   "source": [
    "Let's apply PCA (Principal Component Analysis) to reduce the number of features while retaining most of the variance."
   ]
  },
  {
   "cell_type": "code",
   "execution_count": 83,
   "id": "2ad223f9",
   "metadata": {},
   "outputs": [
    {
     "name": "stdout",
     "output_type": "stream",
     "text": [
      "      PCA_1     PCA_2     PCA_3     PCA_4     PCA_5     PCA_6     PCA_7  \\\n",
      "0 -0.775719  0.125636 -0.094548  0.096682 -0.007173 -0.587284  0.842335   \n",
      "1 -0.785584  0.062364 -0.145164  0.008245 -0.072163 -0.463859  0.802860   \n",
      "2 -0.895695 -0.303267 -0.358053 -0.396743 -0.147929 -0.414745  0.851439   \n",
      "3 -0.821921  0.024550 -0.182021 -0.098240 -0.106838 -0.423944  0.718932   \n",
      "4 -1.508305  0.236906  0.343450  0.790944  0.065128 -0.780053  0.758782   \n",
      "\n",
      "      PCA_8     PCA_9    PCA_10    PCA_11    PCA_12    PCA_13  LABEL  \n",
      "0  0.515994 -0.005868 -0.231959 -0.060041 -0.116888 -0.164412      1  \n",
      "1  0.411444 -0.120262 -0.172418 -0.090425 -0.090172 -0.106301      1  \n",
      "2  0.367629 -0.332858 -0.086240 -0.100173 -0.332687 -0.276597      1  \n",
      "3  0.372788 -0.104859 -0.105992 -0.097760 -0.035524 -0.038423      1  \n",
      "4  0.605113 -0.408690 -0.351618 -0.055795 -0.809691 -0.425517      1  \n"
     ]
    }
   ],
   "source": [
    "# Splitting new X/y\n",
    "X = resampled_df.drop(\"LABEL\", axis=1)\n",
    "y = resampled_df[\"LABEL\"]\n",
    "\n",
    "# Standardize the data\n",
    "scaler = StandardScaler()\n",
    "X_scaled = scaler.fit_transform(X)\n",
    "\n",
    "# Applying PCA to retain 95% of the variance\n",
    "pca = PCA(n_components=0.95)\n",
    "X_pca = pca.fit_transform(X_scaled)\n",
    "\n",
    "# Create a DataFrame with the PCA results\n",
    "columns = [f'PCA_{i+1}' for i in range(X_pca.shape[1])]\n",
    "df_pca = pd.DataFrame(X_pca, columns=columns)\n",
    "df_pca['LABEL'] = y.values\n",
    "\n",
    "# Display the first few rows of the PCA DataFrame\n",
    "print(df_pca.head())"
   ]
  },
  {
   "cell_type": "markdown",
   "id": "e8748654",
   "metadata": {},
   "source": [
    "### 4.2. Split data into training and testing sets"
   ]
  },
  {
   "cell_type": "code",
   "execution_count": 91,
   "id": "1b247c81",
   "metadata": {},
   "outputs": [
    {
     "name": "stdout",
     "output_type": "stream",
     "text": [
      "Training set shape: (8984, 13)\n",
      "Test set shape: (2246, 13)\n"
     ]
    }
   ],
   "source": [
    "# Split X, y\n",
    "X = df_pca.drop(\"LABEL\", axis=1)\n",
    "y = df_pca[\"LABEL\"]\n",
    "\n",
    "# Split the data into training and testing sets\n",
    "X_train, X_test, y_train, y_test = train_test_split(X, y, test_size=0.2, random_state=42)\n",
    "\n",
    "print(f'Training set shape: {X_train.shape}')\n",
    "print(f'Test set shape: {X_test.shape}')"
   ]
  },
  {
   "cell_type": "markdown",
   "id": "be7b3c03",
   "metadata": {},
   "source": [
    "## 5. Model Selection"
   ]
  },
  {
   "cell_type": "code",
   "execution_count": 85,
   "id": "8a25c4f5",
   "metadata": {},
   "outputs": [
    {
     "name": "stdout",
     "output_type": "stream",
     "text": [
      "[[1011  131]\n",
      " [ 793  311]]\n",
      "              precision    recall  f1-score   support\n",
      "\n",
      "           0       0.56      0.89      0.69      1142\n",
      "           1       0.70      0.28      0.40      1104\n",
      "\n",
      "    accuracy                           0.59      2246\n",
      "   macro avg       0.63      0.58      0.54      2246\n",
      "weighted avg       0.63      0.59      0.55      2246\n",
      "\n",
      "0.5886019590382903\n"
     ]
    }
   ],
   "source": [
    "model = LogisticRegression(random_state=42)\n",
    "model.fit(X_train, y_train)\n",
    "\n",
    "y_preds = model.predict(X_test)\n",
    "\n",
    "print(confusion_matrix(y_test, y_preds))\n",
    "print(classification_report(y_test, y_preds))\n",
    "print(model.score(X_test, y_test))"
   ]
  },
  {
   "cell_type": "code",
   "execution_count": 86,
   "id": "d09b9d2a",
   "metadata": {},
   "outputs": [
    {
     "name": "stdout",
     "output_type": "stream",
     "text": [
      "[[1011  131]\n",
      " [ 793  311]]\n",
      "              precision    recall  f1-score   support\n",
      "\n",
      "           0       0.56      0.89      0.69      1142\n",
      "           1       0.70      0.28      0.40      1104\n",
      "\n",
      "    accuracy                           0.59      2246\n",
      "   macro avg       0.63      0.58      0.54      2246\n",
      "weighted avg       0.63      0.59      0.55      2246\n",
      "\n",
      "0.9857524487978628\n"
     ]
    }
   ],
   "source": [
    "model = RandomForestClassifier()\n",
    "model.fit(X_train, y_train)\n",
    "\n",
    "print(confusion_matrix(y_test, y_preds))\n",
    "print(classification_report(y_test, y_preds))\n",
    "print(model.score(X_test, y_test))"
   ]
  },
  {
   "cell_type": "code",
   "execution_count": 87,
   "id": "29edd38d",
   "metadata": {},
   "outputs": [
    {
     "name": "stdout",
     "output_type": "stream",
     "text": [
      "[[1011  131]\n",
      " [ 793  311]]\n",
      "              precision    recall  f1-score   support\n",
      "\n",
      "           0       0.56      0.89      0.69      1142\n",
      "           1       0.70      0.28      0.40      1104\n",
      "\n",
      "    accuracy                           0.59      2246\n",
      "   macro avg       0.63      0.58      0.54      2246\n",
      "weighted avg       0.63      0.59      0.55      2246\n",
      "\n",
      "0.9857524487978628\n"
     ]
    }
   ],
   "source": [
    "svm = SVC(random_state=42)\n",
    "\n",
    "svm.fit(X_train, y_train)\n",
    "\n",
    "print(confusion_matrix(y_test, y_preds))\n",
    "print(classification_report(y_test, y_preds))\n",
    "print(model.score(X_test, y_test))"
   ]
  },
  {
   "cell_type": "code",
   "execution_count": 88,
   "id": "16fa6993",
   "metadata": {},
   "outputs": [
    {
     "name": "stdout",
     "output_type": "stream",
     "text": [
      "[[1011  131]\n",
      " [ 793  311]]\n",
      "              precision    recall  f1-score   support\n",
      "\n",
      "           0       0.56      0.89      0.69      1142\n",
      "           1       0.70      0.28      0.40      1104\n",
      "\n",
      "    accuracy                           0.59      2246\n",
      "   macro avg       0.63      0.58      0.54      2246\n",
      "weighted avg       0.63      0.59      0.55      2246\n",
      "\n",
      "0.9848619768477292\n"
     ]
    }
   ],
   "source": [
    "model = XGBClassifier()\n",
    "model.fit(X_train, y_train)\n",
    "\n",
    "print(confusion_matrix(y_test, y_preds))\n",
    "print(classification_report(y_test, y_preds))\n",
    "print(model.score(X_test, y_test))"
   ]
  },
  {
   "cell_type": "code",
   "execution_count": 89,
   "id": "8030a1c9",
   "metadata": {},
   "outputs": [
    {
     "name": "stdout",
     "output_type": "stream",
     "text": [
      "[[1011  131]\n",
      " [ 793  311]]\n",
      "              precision    recall  f1-score   support\n",
      "\n",
      "           0       0.56      0.89      0.69      1142\n",
      "           1       0.70      0.28      0.40      1104\n",
      "\n",
      "    accuracy                           0.59      2246\n",
      "   macro avg       0.63      0.58      0.54      2246\n",
      "weighted avg       0.63      0.59      0.55      2246\n",
      "\n",
      "0.9532502226179875\n"
     ]
    }
   ],
   "source": [
    "model = KNeighborsClassifier()\n",
    "model.fit(X_train, y_train)\n",
    "\n",
    "print(confusion_matrix(y_test, y_preds))\n",
    "print(classification_report(y_test, y_preds))\n",
    "print(model.score(X_test, y_test))"
   ]
  },
  {
   "cell_type": "markdown",
   "id": "fa4fa815",
   "metadata": {},
   "source": [
    "Let's build a MLP neural network to check for more accuracy"
   ]
  },
  {
   "cell_type": "code",
   "execution_count": 100,
   "id": "53204619",
   "metadata": {},
   "outputs": [
    {
     "name": "stdout",
     "output_type": "stream",
     "text": [
      "MLP Classifier (scikit-learn):\n",
      "[[1120   22]\n",
      " [  13 1091]]\n",
      "              precision    recall  f1-score   support\n",
      "\n",
      "           0       0.99      0.98      0.98      1142\n",
      "           1       0.98      0.99      0.98      1104\n",
      "\n",
      "    accuracy                           0.98      2246\n",
      "   macro avg       0.98      0.98      0.98      2246\n",
      "weighted avg       0.98      0.98      0.98      2246\n",
      "\n"
     ]
    },
    {
     "data": {
      "text/plain": [
       "0.9844167408726625"
      ]
     },
     "execution_count": 100,
     "metadata": {},
     "output_type": "execute_result"
    }
   ],
   "source": [
    "model = MLPClassifier(hidden_layer_sizes=(64, 64), max_iter=500, random_state=42)\n",
    "\n",
    "# Train the model\n",
    "model.fit(X_train, y_train)\n",
    "\n",
    "# Predict on the test set\n",
    "y_pred = model.predict(X_test)\n",
    "\n",
    "# Evaluate the model\n",
    "print('MLP Classifier (scikit-learn):')\n",
    "print(confusion_matrix(y_test, y_pred))\n",
    "print(classification_report(y_test, y_pred))\n",
    "\n",
    "model.score(X_test, y_test)"
   ]
  },
  {
   "cell_type": "markdown",
   "id": "c9e1188e",
   "metadata": {},
   "source": [
    "Let's build MLP neural network using PyTorch for more control over the architecture."
   ]
  },
  {
   "cell_type": "markdown",
   "id": "44d75bdc",
   "metadata": {},
   "source": []
  }
 ],
 "metadata": {
  "kernelspec": {
   "display_name": "Python 3 (ipykernel)",
   "language": "python",
   "name": "python3"
  },
  "language_info": {
   "codemirror_mode": {
    "name": "ipython",
    "version": 3
   },
   "file_extension": ".py",
   "mimetype": "text/x-python",
   "name": "python",
   "nbconvert_exporter": "python",
   "pygments_lexer": "ipython3",
   "version": "3.12.3"
  }
 },
 "nbformat": 4,
 "nbformat_minor": 5
}
